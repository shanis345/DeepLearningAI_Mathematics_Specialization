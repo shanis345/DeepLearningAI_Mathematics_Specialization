{
 "cells": [
  {
   "cell_type": "code",
   "execution_count": 1,
   "id": "bf8d5b65-e553-4a12-a2a2-0a14bd5bf7ac",
   "metadata": {},
   "outputs": [
    {
     "name": "stdout",
     "output_type": "stream",
     "text": [
      "Hello world\n"
     ]
    }
   ],
   "source": [
    "test = \"Hello world\"\n",
    "print(test)"
   ]
  },
  {
   "cell_type": "code",
   "execution_count": 2,
   "id": "6dd884b8-4d0b-41b1-864e-edccbb63ac38",
   "metadata": {},
   "outputs": [],
   "source": [
    "import numpy as np"
   ]
  },
  {
   "cell_type": "code",
   "execution_count": 3,
   "id": "d3318c2c-0704-45b1-b792-e9a53047cb6a",
   "metadata": {},
   "outputs": [
    {
     "name": "stdout",
     "output_type": "stream",
     "text": [
      "[10 12]\n"
     ]
    }
   ],
   "source": [
    "one_dimensional_arr = np.array([10,12])\n",
    "print(one_dimensional_arr)"
   ]
  },
  {
   "cell_type": "code",
   "execution_count": 4,
   "id": "0f2a247b-28c0-498a-8e0b-2237a442c900",
   "metadata": {},
   "outputs": [
    {
     "name": "stdout",
     "output_type": "stream",
     "text": [
      "[1 2 3]\n"
     ]
    }
   ],
   "source": [
    "a = np.array([1,2,3])\n",
    "print(a)"
   ]
  },
  {
   "cell_type": "code",
   "execution_count": 6,
   "id": "80bc2575-1ee1-49db-b23a-2b6db36fa676",
   "metadata": {},
   "outputs": [],
   "source": [
    "b = np.arange(3)"
   ]
  },
  {
   "cell_type": "code",
   "execution_count": 7,
   "id": "025f74c8-1111-4b3b-9813-b8f7e5b7a48f",
   "metadata": {},
   "outputs": [
    {
     "name": "stdout",
     "output_type": "stream",
     "text": [
      "[0 1 2]\n"
     ]
    }
   ],
   "source": [
    "print(b)"
   ]
  },
  {
   "cell_type": "code",
   "execution_count": 12,
   "id": "b436e023-e213-435f-bca6-ef537dd21e85",
   "metadata": {},
   "outputs": [],
   "source": [
    "# array, interval (3)\n",
    "c=np.arange(1,20,3)"
   ]
  },
  {
   "cell_type": "code",
   "execution_count": 13,
   "id": "a2167ef8-44cc-4134-8c99-badb1cc926bc",
   "metadata": {},
   "outputs": [
    {
     "name": "stdout",
     "output_type": "stream",
     "text": [
      "[ 1  4  7 10 13 16 19]\n"
     ]
    }
   ],
   "source": [
    "print(c)"
   ]
  },
  {
   "cell_type": "code",
   "execution_count": 9,
   "id": "967a3693-c0af-4733-9423-adf291ee5cfd",
   "metadata": {},
   "outputs": [
    {
     "name": "stdout",
     "output_type": "stream",
     "text": [
      "[ 1  4  7 10 13 16 19]\n"
     ]
    }
   ],
   "source": [
    "print(c)"
   ]
  },
  {
   "cell_type": "code",
   "execution_count": 11,
   "id": "99d2fcf3-9c49-4e44-ad04-1ba85ce0395a",
   "metadata": {},
   "outputs": [
    {
     "name": "stdout",
     "output_type": "stream",
     "text": [
      "[  0.  25.  50.  75. 100.]\n"
     ]
    }
   ],
   "source": [
    "# Five evenly spaced array(1-100, divide in 5)\n",
    "lin_spaced_arr = np.linspace(0,100,5)\n",
    "print(lin_spaced_arr)"
   ]
  },
  {
   "cell_type": "code",
   "execution_count": 17,
   "id": "58a984fd-313c-4509-8be4-30d53a409a82",
   "metadata": {},
   "outputs": [
    {
     "data": {
      "text/plain": [
       "array([  0,  25,  50,  75, 100])"
      ]
     },
     "execution_count": 17,
     "metadata": {},
     "output_type": "execute_result"
    }
   ],
   "source": [
    "# dtype assigns data type\n",
    "lin_spaced_arr_int = np.linspace(0,100,5, dtype=int)\n",
    "lin_spaced_arr_int"
   ]
  },
  {
   "cell_type": "code",
   "execution_count": 18,
   "id": "c6a6ff0e-f1b7-4a91-95a2-f56e1a8ccb46",
   "metadata": {},
   "outputs": [
    {
     "data": {
      "text/plain": [
       "array([ 1,  4,  7, 10, 13, 16, 19])"
      ]
     },
     "execution_count": 18,
     "metadata": {},
     "output_type": "execute_result"
    }
   ],
   "source": [
    "c_int = np.arange(1,20,3, dtype=int)\n",
    "c_int"
   ]
  },
  {
   "cell_type": "code",
   "execution_count": 19,
   "id": "1770fab7-4605-4521-b677-3b2d191c520b",
   "metadata": {},
   "outputs": [
    {
     "data": {
      "text/plain": [
       "array([0., 1., 2.])"
      ]
     },
     "execution_count": 19,
     "metadata": {},
     "output_type": "execute_result"
    }
   ],
   "source": [
    "b_float = np.arange(3,dtype=float)\n",
    "b_float"
   ]
  },
  {
   "cell_type": "code",
   "execution_count": 20,
   "id": "1744615a-2082-4f83-bc59-346f4fd57b7e",
   "metadata": {},
   "outputs": [
    {
     "name": "stdout",
     "output_type": "stream",
     "text": [
      "['Welcome to Math for ML!']\n",
      "<U23\n"
     ]
    }
   ],
   "source": [
    "char_arr = np.array(['Welcome to Math for ML!'])\n",
    "print(char_arr)\n",
    "print(char_arr.dtype) #prints the data type of the array"
   ]
  },
  {
   "cell_type": "code",
   "execution_count": 25,
   "id": "64a531d7-2b75-4253-8f45-3bea3e54e502",
   "metadata": {},
   "outputs": [
    {
     "name": "stdout",
     "output_type": "stream",
     "text": [
      "[1 1 1]\n"
     ]
    }
   ],
   "source": [
    "# Make an array with '1's\n",
    "ones_arr = np.ones(3, dtype=int)\n",
    "print(ones_arr)"
   ]
  },
  {
   "cell_type": "code",
   "execution_count": 26,
   "id": "78b8c8f6-12ff-4a1b-8f41-18ceee253555",
   "metadata": {},
   "outputs": [
    {
     "name": "stdout",
     "output_type": "stream",
     "text": [
      "[0 0 0]\n"
     ]
    }
   ],
   "source": [
    "# Make an array with '0's\n",
    "zeros_arr=np.zeros(3, dtype=int)\n",
    "print(zeros_arr)"
   ]
  },
  {
   "cell_type": "code",
   "execution_count": 28,
   "id": "b4e52118-3fc3-402a-b0de-d13d3d36cd1e",
   "metadata": {},
   "outputs": [
    {
     "name": "stdout",
     "output_type": "stream",
     "text": [
      "[0. 0. 0.]\n"
     ]
    }
   ],
   "source": [
    "# Make an empty array\n",
    "empt_arr = np.empty(3)\n",
    "print(empt_arr)"
   ]
  },
  {
   "cell_type": "code",
   "execution_count": 29,
   "id": "9164098b-5c3c-47a6-9098-60a971523df9",
   "metadata": {},
   "outputs": [
    {
     "name": "stdout",
     "output_type": "stream",
     "text": [
      "[0.36453581 0.66361297 0.01689471]\n"
     ]
    }
   ],
   "source": [
    "# Return a new array of shape 3 with random numbers between 0 and 1\n",
    "rand_arr = np.random.rand(3)\n",
    "print(rand_arr)"
   ]
  },
  {
   "cell_type": "code",
   "execution_count": 33,
   "id": "7320e5a5-799e-4b4f-b886-4ecdf9de1efc",
   "metadata": {},
   "outputs": [
    {
     "name": "stdout",
     "output_type": "stream",
     "text": [
      "[[1 2 3]\n",
      " [4 5 6]]\n"
     ]
    }
   ],
   "source": [
    "# Create a 2 dimensional array\n",
    "two_dimen_arr = np.array([[1,2,3],[4,5,6]])\n",
    "print(two_dimen_arr)"
   ]
  },
  {
   "cell_type": "code",
   "execution_count": 34,
   "id": "81ba95db-2c60-462b-b21c-f00d47cce3bd",
   "metadata": {},
   "outputs": [
    {
     "name": "stdout",
     "output_type": "stream",
     "text": [
      "[[1 2 3]\n",
      " [4 5 6]]\n"
     ]
    }
   ],
   "source": [
    "# Make 1 dimenstional array\n",
    "one_dim_arr = np.array([1,2,3,4,5,6])\n",
    "\n",
    "# Multidimensional array using reshape()\n",
    "multi_dim_arr = np.reshape(\n",
    "    one_dim_arr,\n",
    "    (2,3)\n",
    ")\n",
    "\n",
    "# Print the new 2-D array with two rows ant three columns\n",
    "print(multi_dim_arr)"
   ]
  },
  {
   "cell_type": "code",
   "execution_count": 35,
   "id": "ad081b93-d2c2-405f-a411-37f2ee0ab275",
   "metadata": {},
   "outputs": [
    {
     "data": {
      "text/plain": [
       "2"
      ]
     },
     "execution_count": 35,
     "metadata": {},
     "output_type": "execute_result"
    }
   ],
   "source": [
    "# Dimension of the 2-D array\n",
    "multi_dim_arr.ndim"
   ]
  },
  {
   "cell_type": "code",
   "execution_count": 36,
   "id": "2f4ab03e-6907-4839-a46b-19a94e4d0df5",
   "metadata": {},
   "outputs": [
    {
     "data": {
      "text/plain": [
       "(2, 3)"
      ]
     },
     "execution_count": 36,
     "metadata": {},
     "output_type": "execute_result"
    }
   ],
   "source": [
    "# shape of the 2-D array \n",
    "# Returns shape of 2 rows and 3 columns\n",
    "multi_dim_arr.shape"
   ]
  },
  {
   "cell_type": "code",
   "execution_count": 37,
   "id": "3c990e1e-a966-42f8-84fe-4fb555155955",
   "metadata": {},
   "outputs": [
    {
     "data": {
      "text/plain": [
       "6"
      ]
     },
     "execution_count": 37,
     "metadata": {},
     "output_type": "execute_result"
    }
   ],
   "source": [
    "# Size of the array\n",
    "# Returns total number of elements\n",
    "multi_dim_arr.size"
   ]
  },
  {
   "cell_type": "code",
   "execution_count": 38,
   "id": "5e75d907-6307-476a-bbea-04d28ad7a17e",
   "metadata": {},
   "outputs": [
    {
     "name": "stdout",
     "output_type": "stream",
     "text": [
      "[ 3  7 11]\n",
      "[1 1 1]\n",
      "[ 2 12 30]\n"
     ]
    }
   ],
   "source": [
    "arr_1 = np.array([2,4,6])\n",
    "arr_2 = np.array([1,3,5])\n",
    "\n",
    "# Adding two 1-D arrays\n",
    "addition = arr_1 + arr_2\n",
    "print(addition)\n",
    "\n",
    "# Subtracting two 1-D arrays\n",
    "subtraction = arr_1 - arr_2\n",
    "print(subtraction)\n",
    "\n",
    "# Multiplying 1-D arrays elementwise\n",
    "multiplication = arr_1 * arr_2\n",
    "print(multiplication)"
   ]
  },
  {
   "cell_type": "code",
   "execution_count": 39,
   "id": "0ad643cd-d6d8-479d-8c7e-bd07e2d56092",
   "metadata": {},
   "outputs": [
    {
     "data": {
      "text/plain": [
       "array([1.6, 3.2])"
      ]
     },
     "execution_count": 39,
     "metadata": {},
     "output_type": "execute_result"
    }
   ],
   "source": [
    "vector = np.array([1,2])\n",
    "vector * 1.6"
   ]
  },
  {
   "cell_type": "code",
   "execution_count": 40,
   "id": "6174a2ce-bfe8-49bf-85a2-a79f0688a24a",
   "metadata": {},
   "outputs": [
    {
     "name": "stdout",
     "output_type": "stream",
     "text": [
      "3\n"
     ]
    }
   ],
   "source": [
    "a = np.array([1,2,3,4,5])\n",
    "print(a[2])"
   ]
  },
  {
   "cell_type": "code",
   "execution_count": 41,
   "id": "c4f7cfd3-f2cb-4933-97bd-d644e6c026d2",
   "metadata": {},
   "outputs": [
    {
     "name": "stdout",
     "output_type": "stream",
     "text": [
      "1\n"
     ]
    }
   ],
   "source": [
    "print(a[0])"
   ]
  },
  {
   "cell_type": "code",
   "execution_count": 42,
   "id": "4132f441-46f8-4297-9e2b-c48a48c03b77",
   "metadata": {},
   "outputs": [
    {
     "name": "stdout",
     "output_type": "stream",
     "text": [
      "8\n",
      "8\n"
     ]
    }
   ],
   "source": [
    "# Indexing of 2-D array\n",
    "two_dim = np.array(([1,2,3],[4,5,6],[7,8,9]))\n",
    "\n",
    "# Select element number 8 from the 2-D array using indices i, j and two sets of brackets\n",
    "print(two_dim[2][1])\n",
    "\n",
    "# Select element number 8 from 2-D array. This time using i and j indexes in a single set of brackets sepaarated by comma\n",
    "print(two_dim[2,1])"
   ]
  },
  {
   "cell_type": "code",
   "execution_count": 43,
   "id": "0d8f28b4-b68c-41a1-aec7-6e39d9641d54",
   "metadata": {},
   "outputs": [
    {
     "name": "stdout",
     "output_type": "stream",
     "text": [
      "[2 3 4]\n"
     ]
    }
   ],
   "source": [
    "# Slice the array a to get the array [2,3,4]\n",
    "sliced_arr = a[1:4]\n",
    "print(sliced_arr)"
   ]
  },
  {
   "cell_type": "code",
   "execution_count": 44,
   "id": "897e0c61-bc6d-4e8f-b466-ba78e1a4a3d4",
   "metadata": {},
   "outputs": [
    {
     "name": "stdout",
     "output_type": "stream",
     "text": [
      "[1 2 3]\n"
     ]
    }
   ],
   "source": [
    "sliced_arr_2 = a[:3]\n",
    "print(sliced_arr_2)"
   ]
  },
  {
   "cell_type": "code",
   "execution_count": 47,
   "id": "a141eb6c-5a12-4a9a-abb4-c575e3f3425a",
   "metadata": {},
   "outputs": [
    {
     "name": "stdout",
     "output_type": "stream",
     "text": [
      "[3 4 5]\n",
      "[1 3 5]\n"
     ]
    },
    {
     "data": {
      "text/plain": [
       "array([[1, 2, 3],\n",
       "       [4, 5, 6]])"
      ]
     },
     "execution_count": 47,
     "metadata": {},
     "output_type": "execute_result"
    }
   ],
   "source": [
    "sliced_arr_3 = a[2:]\n",
    "print(sliced_arr_3)\n",
    "\n",
    "sliced_arr_interval = a[::2]\n",
    "print(sliced_arr_interval)\n",
    "sliced_arr_1_two = two_dim[0:2]\n",
    "sliced_arr_1_two"
   ]
  },
  {
   "cell_type": "code",
   "execution_count": 48,
   "id": "c4b26fc7-aca5-49ad-a004-e567a5a30d6e",
   "metadata": {},
   "outputs": [],
   "source": [
    "sliced_arr_1_two = two_dim[0:1]"
   ]
  },
  {
   "cell_type": "code",
   "execution_count": 49,
   "id": "f53a15c7-cf42-4f5b-a419-37f6e1b338fa",
   "metadata": {},
   "outputs": [
    {
     "data": {
      "text/plain": [
       "array([[1, 2, 3]])"
      ]
     },
     "execution_count": 49,
     "metadata": {},
     "output_type": "execute_result"
    }
   ],
   "source": [
    "sliced_arr_1_two"
   ]
  },
  {
   "cell_type": "code",
   "execution_count": 50,
   "id": "9fe91839-bada-4bf3-85fa-d8a5a0ff3470",
   "metadata": {},
   "outputs": [
    {
     "data": {
      "text/plain": [
       "array([[4, 5, 6],\n",
       "       [7, 8, 9]])"
      ]
     },
     "execution_count": 50,
     "metadata": {},
     "output_type": "execute_result"
    }
   ],
   "source": [
    "sliced_arr_2_two = two_dim[1:]\n",
    "sliced_arr_2_two"
   ]
  },
  {
   "cell_type": "code",
   "execution_count": 52,
   "id": "135b6860-373a-48ad-a6ea-2432ae00ccb2",
   "metadata": {},
   "outputs": [
    {
     "name": "stdout",
     "output_type": "stream",
     "text": [
      "[2 5 8]\n"
     ]
    }
   ],
   "source": [
    "# This is very important!\n",
    "# This example uses slice notation to get every row, and then pulls the second column.\n",
    "# Notice how this example combines slice notation with the use of multiple indexes\n",
    "sliced_two_dim_cols = two_dim[:,1]\n",
    "print(sliced_two_dim_cols)"
   ]
  },
  {
   "cell_type": "code",
   "execution_count": 53,
   "id": "33e74bc0-fdea-4ee9-8fe0-e1b1a4bb9fe5",
   "metadata": {},
   "outputs": [
    {
     "name": "stdout",
     "output_type": "stream",
     "text": [
      "a1:\n",
      "[[1 1]\n",
      " [2 2]]\n",
      "a2:\n",
      "[[3 3]\n",
      " [4 4]]\n"
     ]
    }
   ],
   "source": [
    "a1 = np.array([[1,1],[2,2]])\n",
    "a2 = np.array([[3,3],[4,4]])\n",
    "print(f'a1:\\n{a1}')\n",
    "print(f'a2:\\n{a2}')"
   ]
  },
  {
   "cell_type": "code",
   "execution_count": 55,
   "id": "de1105a3-47a5-4edd-bb37-6475ecdacab2",
   "metadata": {},
   "outputs": [
    {
     "name": "stdout",
     "output_type": "stream",
     "text": [
      "[[1 1]\n",
      " [2 2]\n",
      " [3 3]\n",
      " [4 4]]\n"
     ]
    }
   ],
   "source": [
    "# Stacks array in vertical direction\n",
    "vert_stack = np.vstack((a1,a2))\n",
    "print(vert_stack)"
   ]
  },
  {
   "cell_type": "code",
   "execution_count": 57,
   "id": "82144f1f-8894-48bf-a0b7-c9c311dfb0f3",
   "metadata": {},
   "outputs": [
    {
     "name": "stdout",
     "output_type": "stream",
     "text": [
      "[[1 1 3 3]\n",
      " [2 2 4 4]]\n"
     ]
    }
   ],
   "source": [
    "# Stacks arrays in horizontal direction\n",
    "hor_stack = np.hstack((a1,a2))\n",
    "print(hor_stack)"
   ]
  },
  {
   "cell_type": "code",
   "execution_count": 58,
   "id": "9cbf781b-139f-4977-84ec-3c49eb6fb165",
   "metadata": {},
   "outputs": [
    {
     "name": "stdout",
     "output_type": "stream",
     "text": [
      "[array([[1, 1],\n",
      "       [2, 2]]), array([[3, 3],\n",
      "       [4, 4]])]\n",
      "[array([[1],\n",
      "       [2]]), array([[1],\n",
      "       [2]]), array([[3],\n",
      "       [4]]), array([[3],\n",
      "       [4]])]\n",
      "[array([[1],\n",
      "       [2]]), array([[1, 3, 3],\n",
      "       [2, 4, 4]])]\n"
     ]
    }
   ],
   "source": [
    "# Split the horizontally stacked array into 2 separate arrays of equal size\n",
    "horz_split_two = np.hsplit(hor_stack,2)\n",
    "print(horz_split_two)\n",
    "\n",
    "# Split the horizontally stacked array into 4 separate arrays of equal size\n",
    "horz_split_four = np.hsplit(hor_stack, 4)\n",
    "print(horz_split_four)\n",
    "\n",
    "# Split the horizontally stacked array after the first column\n",
    "horz_split_first = np.hsplit(hor_stack, [1])\n",
    "print(horz_split_first)"
   ]
  },
  {
   "cell_type": "code",
   "execution_count": 59,
   "id": "9392d1ee-ad6b-4040-b4c8-ec91b51e0b83",
   "metadata": {},
   "outputs": [
    {
     "name": "stdout",
     "output_type": "stream",
     "text": [
      "[array([[1, 1],\n",
      "       [2, 2]]), array([[3, 3],\n",
      "       [4, 4]])]\n",
      "[array([[1, 1]]), array([[2, 2]]), array([[3, 3]]), array([[4, 4]])]\n",
      "[array([[1, 1]]), array([[2, 2],\n",
      "       [3, 3]]), array([[4, 4]])]\n"
     ]
    }
   ],
   "source": [
    "# Split the vertically stacked array into 2 separate arrays of equal size\n",
    "vert_split_two = np.vsplit(vert_stack,2)\n",
    "print(vert_split_two)\n",
    "\n",
    "# Split the horizontally stacked array into 4 separate arrays of equal size\n",
    "vert_split_four = np.vsplit(vert_stack,4)\n",
    "print(vert_split_four)\n",
    "\n",
    "# Split the horizontally stacked array after the first and third row\n",
    "vert_split_first_third = np.vsplit(vert_stack, [1,3])\n",
    "print(vert_split_first_third)"
   ]
  },
  {
   "cell_type": "code",
   "execution_count": 60,
   "id": "19a9aca0-05d0-4393-a451-fc1a6aabb09f",
   "metadata": {},
   "outputs": [],
   "source": [
    "# One thing to remember. Arrays are stacked in vertical direction\n",
    "# array [1,1] is row 1 and row 2\n",
    "# array ([1,1], [2,2]) is row 1 = 1,2 / row 2 = 1,2\n",
    "# Just think of vectors."
   ]
  }
 ],
 "metadata": {
  "kernelspec": {
   "display_name": "Python 3 (ipykernel)",
   "language": "python",
   "name": "python3"
  },
  "language_info": {
   "codemirror_mode": {
    "name": "ipython",
    "version": 3
   },
   "file_extension": ".py",
   "mimetype": "text/x-python",
   "name": "python",
   "nbconvert_exporter": "python",
   "pygments_lexer": "ipython3",
   "version": "3.11.7"
  }
 },
 "nbformat": 4,
 "nbformat_minor": 5
}
